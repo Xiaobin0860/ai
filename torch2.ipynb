{
 "cells": [
  {
   "cell_type": "code",
   "execution_count": 18,
   "metadata": {},
   "outputs": [
    {
     "data": {
      "text/plain": [
       "[<matplotlib.lines.Line2D at 0x12379e190>]"
      ]
     },
     "execution_count": 18,
     "metadata": {},
     "output_type": "execute_result"
    },
    {
     "data": {
      "image/png": "[encoded data removed]",
      "text/plain": [
       "<Figure size 640x480 with 1 Axes>"
      ]
     },
     "metadata": {},
     "output_type": "display_data"
    }
   ],
   "source": [
    "# 随机生成训练集 x 和标签 y\n",
    "import numpy as np\n",
    "import matplotlib.pyplot as plt\n",
    "import random\n",
    "\n",
    "\n",
    "w = 2\n",
    "b = 3\n",
    "xlim = [-10, 10]\n",
    "x_train = np.random.randint(xlim[0], xlim[1], 30)\n",
    "y_train = [w * x + b + random.randint(0, 2) for x in x_train]\n",
    "# bo 表示蓝色圆点, 可以指定线条颜色和形状\n",
    "plt.plot(x_train, y_train, 'bo')"
   ]
  },
  {
   "cell_type": "code",
   "execution_count": 19,
   "metadata": {},
   "outputs": [
    {
     "name": "stdout",
     "output_type": "stream",
     "text": [
      "Parameter containing:\n",
      "tensor([1.9658], requires_grad=True) Parameter containing:\n",
      "tensor([3.4545], requires_grad=True)\n",
      "w Parameter containing:\n",
      "tensor([1.9658], requires_grad=True)\n",
      "b Parameter containing:\n",
      "tensor([3.4545], requires_grad=True)\n",
      "Parameter containing:\n",
      "tensor([1.9658], requires_grad=True)\n",
      "Parameter containing:\n",
      "tensor([3.4545], requires_grad=True)\n",
      "Parameter containing:\n",
      "tensor([1.9658], requires_grad=True)\n",
      "Parameter containing:\n",
      "tensor([3.4545], requires_grad=True)\n"
     ]
    }
   ],
   "source": [
    "# 训练回归模型 y = wx + b\n",
    "import torch\n",
    "import torch.nn as nn\n",
    "import torch.optim as optim\n",
    "import os\n",
    "\n",
    "\n",
    "# nn.Module 是所有神经网络模块的基类(Base class of all neural network modules)\n",
    "# 我们的模型应该继承这个类(Your models should also subclass this class)\n",
    "class LinearModel(nn.Module):\n",
    "    # __init__ 是类的构造函数, 用于初始化一些参数(Construct function), 必须实现\n",
    "    def __init__(self):\n",
    "        # super(LinearModel, self).__init__()\n",
    "        super().__init__()\n",
    "        self.w = nn.Parameter(torch.randn(1))\n",
    "        self.b = nn.Parameter(torch.randn(1))\n",
    "\n",
    "    # forward 定义了前向传播的运算(如何计算输出), 必须重写. Module类中的__call__方法会调用forward方法\n",
    "    def forward(self, x):\n",
    "        return self.w * x + self.b\n",
    "\n",
    "\n",
    "# 创建模型\n",
    "model = LinearModel()\n",
    "# 定义优化器 随机梯度下降, weight_decay表示L2正则化, momentum表示动量\n",
    "optimizer = optim.SGD(model.parameters(), lr=1e-4,\n",
    "                      weight_decay=1e-2, momentum=0.9)\n",
    "\n",
    "y_train = torch.tensor(y_train, dtype=torch.float32)\n",
    "epoch = 1000\n",
    "for _ in range(epoch):\n",
    "    input = torch.from_numpy(x_train)\n",
    "    # 前向传播\n",
    "    output = model(input)\n",
    "    # 计算损失\n",
    "    loss = nn.MSELoss()(output, y_train)\n",
    "    # 梯度清零\n",
    "    optimizer.zero_grad()\n",
    "    # 反向传播\n",
    "    loss.backward()\n",
    "    # 更新参数\n",
    "    optimizer.step()\n",
    "\n",
    "# 打印训练后的参数\n",
    "print(model.w, model.b)\n",
    "for name, param in model.named_parameters():\n",
    "    print(name, param)\n",
    "\n",
    "if not os.path.exists('./out'):\n",
    "    os.mkdir('./out')\n",
    "\n",
    "# 保存模型参数\n",
    "torch.save(model.state_dict(), './out/linear_model.pth')\n",
    "\n",
    "# 加载模型参数\n",
    "linear_model = LinearModel()\n",
    "linear_model.load_state_dict(torch.load('./out/linear_model.pth'))\n",
    "# 设置为评估模式\n",
    "linear_model.eval()\n",
    "for param in linear_model.parameters():\n",
    "    print(param)\n",
    "\n",
    "# 保存整个模型\n",
    "torch.save(model, './out/linear_model_with_arc.pth')\n",
    "# 加载整个模型, 不需要创建模型了\n",
    "linear_model2 = torch.load('./out/linear_model_with_arc.pth')\n",
    "for param in linear_model2.parameters():\n",
    "    print(param)"
   ]
  }
 ],
 "metadata": {
  "kernelspec": {
   "display_name": "Python 3",
   "language": "python",
   "name": "python3"
  },
  "language_info": {
   "codemirror_mode": {
    "name": "ipython",
    "version": 3
   },
   "file_extension": ".py",
   "mimetype": "text/x-python",
   "name": "python",
   "nbconvert_exporter": "python",
   "pygments_lexer": "ipython3",
   "version": "3.11.5"
  }
 },
 "nbformat": 4,
 "nbformat_minor": 2
}
